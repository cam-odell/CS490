{
 "cells": [
  {
   "cell_type": "code",
   "execution_count": 3,
   "id": "e30882b2",
   "metadata": {},
   "outputs": [],
   "source": [
    "integer_number = 2 #Integer"
   ]
  },
  {
   "cell_type": "code",
   "execution_count": 4,
   "id": "b765d937",
   "metadata": {},
   "outputs": [],
   "source": [
    "float_number = 2.0 # floating point number"
   ]
  },
  {
   "cell_type": "code",
   "execution_count": 5,
   "id": "659c8f54",
   "metadata": {},
   "outputs": [],
   "source": [
    "example_string = 'my name is AgentM' # an example string"
   ]
  },
  {
   "cell_type": "code",
   "execution_count": 6,
   "id": "fd41d778",
   "metadata": {},
   "outputs": [],
   "source": [
    "example_tuple = (1, 2, 3, 4) # tuple of integers, signified by the () parenthesis"
   ]
  },
  {
   "cell_type": "code",
   "execution_count": 7,
   "id": "2b2c8363",
   "metadata": {},
   "outputs": [],
   "source": [
    "example_int_list = [1, 2, 3, 4] # example list of integers, signified by the square parenthesis."
   ]
  },
  {
   "cell_type": "code",
   "execution_count": 8,
   "id": "eb978a22",
   "metadata": {},
   "outputs": [],
   "source": [
    "example_dictionary = {'one': 1, 'two': 2, 'three': 3} # A dictionary where the keys are assigned integer items. Note that items can be of any data type. Note the curly parenthesis"
   ]
  },
  {
   "cell_type": "markdown",
   "id": "d50b8046",
   "metadata": {},
   "source": [
    "#Activity I"
   ]
  },
  {
   "cell_type": "code",
   "execution_count": 9,
   "id": "4c738d3a",
   "metadata": {},
   "outputs": [
    {
     "name": "stdout",
     "output_type": "stream",
     "text": [
      "2\n",
      "2.0\n",
      "my name is AgentM\n",
      "(1, 2, 3, 4)\n",
      "[1, 2, 3, 4]\n",
      "{'one': 1, 'two': 2, 'three': 3}\n"
     ]
    }
   ],
   "source": [
    "print(integer_number)\n",
    "print(float_number)\n",
    "print(example_string)\n",
    "print(example_tuple)\n",
    "print(example_int_list)\n",
    "print(example_dictionary)"
   ]
  },
  {
   "cell_type": "code",
   "execution_count": 12,
   "id": "7a72f70f",
   "metadata": {},
   "outputs": [
    {
     "name": "stdout",
     "output_type": "stream",
     "text": [
      "<class 'int'>\n",
      "<class 'float'>\n",
      "<class 'str'>\n",
      "<class 'tuple'>\n",
      "<class 'list'>\n",
      "<class 'dict'>\n"
     ]
    }
   ],
   "source": [
    "print(type(integer_number))\n",
    "print(type(float_number))\n",
    "print(type(example_string))\n",
    "print(type(example_tuple))\n",
    "print(type(example_int_list))\n",
    "print(type(example_dictionary))"
   ]
  },
  {
   "cell_type": "code",
   "execution_count": 15,
   "id": "0f97dae7",
   "metadata": {},
   "outputs": [
    {
     "data": {
      "text/plain": [
       "2"
      ]
     },
     "execution_count": 15,
     "metadata": {},
     "output_type": "execute_result"
    }
   ],
   "source": [
    "int(float_number)"
   ]
  },
  {
   "cell_type": "code",
   "execution_count": 16,
   "id": "a7490f92",
   "metadata": {},
   "outputs": [
    {
     "data": {
      "text/plain": [
       "2.0"
      ]
     },
     "execution_count": 16,
     "metadata": {},
     "output_type": "execute_result"
    }
   ],
   "source": [
    "float(integer_number)\n"
   ]
  },
  {
   "cell_type": "code",
   "execution_count": 17,
   "id": "ca641a8d",
   "metadata": {},
   "outputs": [
    {
     "ename": "ValueError",
     "evalue": "invalid literal for int() with base 10: '2.0'",
     "output_type": "error",
     "traceback": [
      "\u001b[1;31m---------------------------------------------------------------------------\u001b[0m",
      "\u001b[1;31mValueError\u001b[0m                                Traceback (most recent call last)",
      "\u001b[1;32m~\\AppData\\Local\\Temp\\ipykernel_16952\\30543818.py\u001b[0m in \u001b[0;36m<module>\u001b[1;34m\u001b[0m\n\u001b[1;32m----> 1\u001b[1;33m \u001b[0mint\u001b[0m\u001b[1;33m(\u001b[0m\u001b[1;34m'2.0'\u001b[0m\u001b[1;33m)\u001b[0m \u001b[1;31m#note, here converting string to integer.\u001b[0m\u001b[1;33m\u001b[0m\u001b[1;33m\u001b[0m\u001b[0m\n\u001b[0m",
      "\u001b[1;31mValueError\u001b[0m: invalid literal for int() with base 10: '2.0'"
     ]
    }
   ],
   "source": [
    "int('2.0') #note, here converting string to integer."
   ]
  },
  {
   "cell_type": "code",
   "execution_count": 18,
   "id": "d1639ae1",
   "metadata": {},
   "outputs": [
    {
     "data": {
      "text/plain": [
       "2.0"
      ]
     },
     "execution_count": 18,
     "metadata": {},
     "output_type": "execute_result"
    }
   ],
   "source": [
    "float('2.0') #note, here converting string to float"
   ]
  },
  {
   "cell_type": "code",
   "execution_count": 19,
   "id": "f2316463",
   "metadata": {},
   "outputs": [
    {
     "data": {
      "text/plain": [
       "'1'"
      ]
     },
     "execution_count": 19,
     "metadata": {},
     "output_type": "execute_result"
    }
   ],
   "source": [
    "str(1) # converting an integer to string"
   ]
  },
  {
   "cell_type": "code",
   "execution_count": 24,
   "id": "5214553d",
   "metadata": {},
   "outputs": [
    {
     "name": "stdout",
     "output_type": "stream",
     "text": [
      "cameron_o'dell\n",
      "['Julie', 'Janna', 'Jason']\n"
     ]
    }
   ],
   "source": [
    "my_name = \"cameron_o'dell\"\n",
    "my_name.upper() #Calling an internal function attribute to convert the string to upper case. Note that it will print out the result\n",
    "print(my_name) #However, note that the original variable name has not changed. This is called, immutability.\n",
    "my_name_upper_case = my_name.upper() # you can assign the above output to a new variable name.\n",
    "example_list = ['Jason', 'Janna', 'Julie']\n",
    "example_list.reverse() # Note that nothing prints out when you execute this\n",
    "print(example_list) # What happened to your list? Remember we said mutable? Well, this is an example demonstration of it."
   ]
  },
  {
   "cell_type": "code",
   "execution_count": 30,
   "id": "512311a4",
   "metadata": {},
   "outputs": [],
   "source": [
    "example_string = 'string cheese'\n",
    "example_tuple = (3, 6, 9)\n",
    "example_list = ['breakfast', 'second breakfast', 'lunch', 'dinner']"
   ]
  },
  {
   "cell_type": "markdown",
   "id": "d89c1fd2",
   "metadata": {},
   "source": [
    "len(example_string)"
   ]
  },
  {
   "cell_type": "code",
   "execution_count": 32,
   "id": "1dba87ad",
   "metadata": {},
   "outputs": [
    {
     "data": {
      "text/plain": [
       "3"
      ]
     },
     "execution_count": 32,
     "metadata": {},
     "output_type": "execute_result"
    }
   ],
   "source": [
    "len(example_tuple)"
   ]
  },
  {
   "cell_type": "code",
   "execution_count": 33,
   "id": "c4851fd2",
   "metadata": {},
   "outputs": [
    {
     "data": {
      "text/plain": [
       "4"
      ]
     },
     "execution_count": 33,
     "metadata": {},
     "output_type": "execute_result"
    }
   ],
   "source": [
    "len(example_list)"
   ]
  },
  {
   "cell_type": "code",
   "execution_count": 42,
   "id": "13ed853d",
   "metadata": {},
   "outputs": [],
   "source": [
    "find_string = example_string.find('string')"
   ]
  },
  {
   "cell_type": "code",
   "execution_count": 43,
   "id": "e9fad56e",
   "metadata": {},
   "outputs": [
    {
     "name": "stdout",
     "output_type": "stream",
     "text": [
      "0\n"
     ]
    }
   ],
   "source": [
    "print(find_string)"
   ]
  },
  {
   "cell_type": "code",
   "execution_count": 49,
   "id": "6632d962",
   "metadata": {},
   "outputs": [],
   "source": [
    "six_index = example_tuple.index(6)"
   ]
  },
  {
   "cell_type": "code",
   "execution_count": 46,
   "id": "d4088870",
   "metadata": {},
   "outputs": [
    {
     "name": "stdout",
     "output_type": "stream",
     "text": [
      "1\n"
     ]
    }
   ],
   "source": [
    "print(tuple_index)"
   ]
  },
  {
   "cell_type": "code",
   "execution_count": 47,
   "id": "53302989",
   "metadata": {},
   "outputs": [],
   "source": [
    "dinner_index = example_list.index('dinner')"
   ]
  },
  {
   "cell_type": "code",
   "execution_count": 48,
   "id": "ec68f877",
   "metadata": {},
   "outputs": [
    {
     "name": "stdout",
     "output_type": "stream",
     "text": [
      "3\n"
     ]
    }
   ],
   "source": [
    "print(dinner_index)"
   ]
  },
  {
   "cell_type": "markdown",
   "id": "c01fb020",
   "metadata": {},
   "source": [
    "#Activity VIII"
   ]
  },
  {
   "cell_type": "code",
   "execution_count": 5,
   "id": "f15dfdb7",
   "metadata": {},
   "outputs": [],
   "source": [
    "coursecode_dict = { 'Linear Algebra' : 'Math 300' , 'Calculus III' : 'Math 250' , 'Data Structures' : 'Comp Sci 303'}"
   ]
  },
  {
   "cell_type": "code",
   "execution_count": 6,
   "id": "a926208e",
   "metadata": {},
   "outputs": [
    {
     "data": {
      "text/plain": [
       "3"
      ]
     },
     "execution_count": 6,
     "metadata": {},
     "output_type": "execute_result"
    }
   ],
   "source": [
    "len(coursecode_dict)"
   ]
  }
 ],
 "metadata": {
  "kernelspec": {
   "display_name": "Python 3 (ipykernel)",
   "language": "python",
   "name": "python3"
  },
  "language_info": {
   "codemirror_mode": {
    "name": "ipython",
    "version": 3
   },
   "file_extension": ".py",
   "mimetype": "text/x-python",
   "name": "python",
   "nbconvert_exporter": "python",
   "pygments_lexer": "ipython3",
   "version": "3.9.13"
  }
 },
 "nbformat": 4,
 "nbformat_minor": 5
}
