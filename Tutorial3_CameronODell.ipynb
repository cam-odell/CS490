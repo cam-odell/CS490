{
 "cells": [
  {
   "cell_type": "markdown",
   "id": "19fc8f5f",
   "metadata": {},
   "source": [
    "## Tutorial 3 - Cameron O'Dell COMP-SCI 490 Distributed Artifical Intelligence RST"
   ]
  },
  {
   "cell_type": "markdown",
   "id": "5aca14f6",
   "metadata": {},
   "source": [
    "## TASK I"
   ]
  },
  {
   "cell_type": "markdown",
   "id": "e13c1c07",
   "metadata": {},
   "source": [
    "### a. Read Multiple Files using Python\n",
    "\n",
    "**In the Tutorial Completion Document, describe your findings.**\n",
    "\n",
    "Please read and print all file names in the \"data\" folder."
   ]
  },
  {
   "cell_type": "code",
   "execution_count": 57,
   "id": "c843a857",
   "metadata": {},
   "outputs": [
    {
     "name": "stdout",
     "output_type": "stream",
     "text": [
      "['.ipynb_checkpoints', 'coffee.csv', 'Employee.csv', 'Employee.json', 'Employee.xlsx', 'HousePrices.csv', 'iris.csv', 'Tutorial3.txt']\n"
     ]
    }
   ],
   "source": [
    "import os\n",
    "\n",
    "path = 'C:/Users/14175/Desktop/CS490/Tutorial 3/data'\n",
    "directory_list = os.listdir(path)\n",
    "print(directory_list)"
   ]
  },
  {
   "cell_type": "markdown",
   "id": "a2fc3ef8",
   "metadata": {},
   "source": [
    "**Description of Task I.a**\n",
    "\n",
    "I imported my os to use the filepath to the data folder. From there, I created a list from os.lisdir on path. Then I printed the list. There are 8 files in the list."
   ]
  },
  {
   "cell_type": "markdown",
   "id": "82459dda",
   "metadata": {},
   "source": [
    "### b. Read and print the top 10 rows from the \"coffee.csv\" file using Python\n",
    "\n",
    "**In the Tutorial Completion Document, describe your findings.**\n",
    "\n",
    "Please read and print the top 10 rows in the **coffee.csv** file in the \"data\" folder."
   ]
  },
  {
   "cell_type": "code",
   "execution_count": 58,
   "id": "c695076e",
   "metadata": {},
   "outputs": [
    {
     "name": "stdout",
     "output_type": "stream",
     "text": [
      "         Date    Open    High     Low   Close  Volume Currency\n",
      "0  2000-01-03  122.25  124.00  116.10  116.50    6640      USD\n",
      "1  2000-01-04  116.25  120.50  115.75  116.25    5492      USD\n",
      "2  2000-01-05  115.00  121.00  115.00  118.60    6165      USD\n",
      "3  2000-01-06  119.00  121.40  116.50  116.85    5094      USD\n",
      "4  2000-01-07  117.25  117.75  113.80  114.15    6855      USD\n",
      "5  2000-01-10  123.50  126.00  116.70  117.55    7499      USD\n",
      "6  2000-01-11  115.50  118.25  115.50  117.80    3976      USD\n",
      "7  2000-01-12  117.80  120.50  116.90  118.95    5184      USD\n",
      "8  2000-01-13  119.25  120.00  117.50  118.55    3717      USD\n",
      "9  2000-01-14  117.75  120.25  112.25  112.55   10115      USD\n"
     ]
    }
   ],
   "source": [
    "import pandas as pd\n",
    "\n",
    "coffee_file = path+'/coffee.csv'\n",
    "coffee_df = pd.read_csv(coffee_file)\n",
    "coffee_first10 = coffee_df.head(10)\n",
    "print(coffee_first10)"
   ]
  },
  {
   "cell_type": "markdown",
   "id": "b3b9640f",
   "metadata": {},
   "source": [
    "**Description of Task I.b**\n",
    "\n",
    "I imported the pandas module. From there, I created a file destination for coffee.csv to read csv. Then I utilized the header function to pull the first 10 entries. One thing I noticed is that the data is sorted in ascending order from the first date 2000-01-03."
   ]
  },
  {
   "cell_type": "markdown",
   "id": "57de147b",
   "metadata": {},
   "source": [
    "### c. Read and print the last 10 rows from the \"coffee.csv\" file using Python\n",
    "\n",
    "**In the Tutorial Completion Document, describe your findings.**\n",
    "\n",
    "Please read and print the last 10 rows in the **coffee.csv** file in the \"data\" folder.\n"
   ]
  },
  {
   "cell_type": "code",
   "execution_count": 59,
   "id": "b8664414",
   "metadata": {},
   "outputs": [
    {
     "name": "stdout",
     "output_type": "stream",
     "text": [
      "            Date    Open    High     Low   Close  Volume Currency\n",
      "5736  2022-08-22  215.00  225.60  213.55  224.30   10077      USD\n",
      "5737  2022-08-23  224.55  231.60  222.80  230.65     242      USD\n",
      "5738  2022-08-24  234.35  242.35  234.35  242.95      62      USD\n",
      "5739  2022-08-25  242.65  246.90  241.95  243.40      20      USD\n",
      "5740  2022-08-26  242.60  245.25  242.45  242.00      18      USD\n",
      "5741  2022-08-29  240.55  240.55  240.55  240.50       1      USD\n",
      "5742  2022-08-30  238.75  241.75  238.75  239.15      14      USD\n",
      "5743  2022-08-31  240.75  240.75  239.65  239.10      12      USD\n",
      "5744  2022-09-01  238.55  238.55  236.60  236.35       6      USD\n",
      "5745  2022-09-02  232.50  234.05  228.28  228.42       0      USD\n"
     ]
    }
   ],
   "source": [
    "coffee_last10 = coffee_df.tail(10)\n",
    "print(coffee_last10)"
   ]
  },
  {
   "cell_type": "markdown",
   "id": "22f6e5d9",
   "metadata": {},
   "source": [
    "**Description of Task I.c**\n",
    "\n",
    "For this task, instead of using the header function I used the tail function to pull the last 10 entries of the dataset. Nothing to note other than that the most recent data collected is from 2022-09-02. This could be relevant if you were wanting more recent data to work with."
   ]
  },
  {
   "cell_type": "markdown",
   "id": "8f340e09",
   "metadata": {},
   "source": [
    "### Activity-I\n",
    "**In the Tutorial Completion Document, describe your findings.**\n",
    "\n",
    "a. Print the part of the given arry. Print only even numbers between 20 and 80, including both 20 and 80"
   ]
  },
  {
   "cell_type": "code",
   "execution_count": 60,
   "id": "18bb9408",
   "metadata": {},
   "outputs": [
    {
     "name": "stdout",
     "output_type": "stream",
     "text": [
      "Full Array is:\n",
      " [  0   1   2   3   4   5   6   7   8   9  10  11  12  13  14  15  16  17\n",
      "  18  19  20  21  22  23  24  25  26  27  28  29  30  31  32  33  34  35\n",
      "  36  37  38  39  40  41  42  43  44  45  46  47  48  49  50  51  52  53\n",
      "  54  55  56  57  58  59  60  61  62  63  64  65  66  67  68  69  70  71\n",
      "  72  73  74  75  76  77  78  79  80  81  82  83  84  85  86  87  88  89\n",
      "  90  91  92  93  94  95  96  97  98  99 100] \n",
      "\n",
      "Array with even numbers between 20 and 80 is:\n",
      " [20 22 24 26 28 30 32 34 36 38 40 42 44 46 48 50 52 54 56 58 60 62 64 66\n",
      " 68 70 72 74 76 78 80] \n",
      "\n"
     ]
    }
   ],
   "source": [
    "import numpy as np\n",
    "\n",
    "# Arrange elements from 0 to 100\n",
    "a = np.arange(0, 101)\n",
    "print(\"Full Array is:\\n\",a, '\\n')\n",
    "\n",
    "# To-do: Print only even numbers between 20 and 80, including both 20 and 80\n",
    "b = np.arange(20, 81, 2)\n",
    "print(\"Array with even numbers between 20 and 80 is:\\n\",b, '\\n')"
   ]
  },
  {
   "cell_type": "markdown",
   "id": "5f332dee",
   "metadata": {},
   "source": [
    "**Description of Activity I.a**\n",
    "\n",
    "For this activity, I imported the NumPy module. Then I created an array 'a' from 0 to 100. After that I created an array 'b' from 20 to 80 including only even integers."
   ]
  },
  {
   "cell_type": "markdown",
   "id": "0c2a40c2",
   "metadata": {},
   "source": [
    "### Activity-II\n",
    "**In the Tutorial Completion Document, describe your findings.**\n",
    "\n",
    "a. Wite a NumPy program to determine whether any or all of the elements of a given array are zero or non-zero."
   ]
  },
  {
   "cell_type": "code",
   "execution_count": 61,
   "id": "0ba39141",
   "metadata": {},
   "outputs": [
    {
     "name": "stdout",
     "output_type": "stream",
     "text": [
      "Original x1 array: \n",
      " [1 2 3 4]\n",
      "Original x2 array: \n",
      " [0 1 2 3] \n",
      "\n",
      "None of the elements of the x1 array is zero: True\n",
      "\n",
      "None of the elements of the x2 array is zero: False\n"
     ]
    }
   ],
   "source": [
    "x1 = np.array([1, 2, 3, 4])\n",
    "x2 = np.array([0, 1, 2, 3])\n",
    "\n",
    "print(\"Original x1 array: \\n\", x1)\n",
    "print(\"Original x2 array: \\n\", x2, '\\n')\n",
    "\n",
    "# To-do: write code to check whether any or all of the elements of a given arrays are zero or non-zero.\n",
    "print(f\"None of the elements of the x1 array is zero: {not 0 in x1}\\n\")\n",
    "print(f\"None of the elements of the x2 array is zero: {not 0 in x2}\")"
   ]
  },
  {
   "cell_type": "markdown",
   "id": "97170be4",
   "metadata": {},
   "source": [
    "**Description of Activity II.a**\n",
    "\n",
    "For this activity, the x1 and x2 arrays were given. I used boolean logic to check if zero was in the arrays."
   ]
  },
  {
   "cell_type": "markdown",
   "id": "27a9fc4c",
   "metadata": {},
   "source": [
    "### Activity-III\n",
    "import pandas as pd\n",
    "**In the Tutorial Completion Document, describe your findings.**\n",
    "\n",
    "a. Print the number of rows and columns in the \"iris\" dataset."
   ]
  },
  {
   "cell_type": "code",
   "execution_count": 62,
   "id": "4516f47e",
   "metadata": {},
   "outputs": [
    {
     "name": "stdout",
     "output_type": "stream",
     "text": [
      "Number of Rows: 150\n",
      "\n",
      "Number of Columns: 5\n"
     ]
    }
   ],
   "source": [
    "# Reading the CSV file\n",
    "iris_df = pd.read_csv(path+'/iris.csv')\n",
    "iris_rows_len = len(iris_df.axes[0])\n",
    "iris_cols_len = len(iris_df.axes[1])\n",
    "\n",
    "# To-do: Print the number of rows and columns in the \"iris\" dataset.\n",
    "print(f\"Number of Rows: {iris_rows_len}\\n\")\n",
    "print(f\"Number of Columns: {iris_cols_len}\")"
   ]
  },
  {
   "cell_type": "markdown",
   "id": "6eb5f49a",
   "metadata": {},
   "source": [
    "**Description of Activity III.a**\n",
    "\n",
    "For this activity, I created a dataframe using pandas for the iris.csv dataset. From there, I checked the number of rows and columns by checking the length of the axes. The data set is 150 rows x 5  columns."
   ]
  },
  {
   "cell_type": "markdown",
   "id": "829c94ca",
   "metadata": {},
   "source": [
    "**In the Tutorial Completion Document, describe your findings.**\n",
    "\n",
    "b. Print the mean, standard deviation, minimum and maximum value of **only** '***petal_length***' column of the \"iris\" dataset"
   ]
  },
  {
   "cell_type": "code",
   "execution_count": 63,
   "id": "89ac1177",
   "metadata": {},
   "outputs": [
    {
     "name": "stdout",
     "output_type": "stream",
     "text": [
      " --Statistical Values of Petal Length in Iris data--\n",
      "Petal mean: 3.7586666666666693\n",
      "Petal standard deviation: 1.7644204199522617\n",
      "Petal minimum: 1.0\n",
      "Petal maximum: 6.9\n"
     ]
    }
   ],
   "source": [
    "# To-do: Print the mean, standard deviation, minimum and maximum value of only 'petal_length' column of the 'iris' dataset\n",
    "petal_mean = iris_df['petal_length'].mean()\n",
    "petal_std = iris_df['petal_length'].std()\n",
    "petal_mini = iris_df['petal_length'].min()\n",
    "petal_maxi = iris_df['petal_length'].max()\n",
    "\n",
    "print (\n",
    "    f\" --Statistical Values of Petal Length in Iris data--\\nPetal mean: {petal_mean}\\n\"\n",
    "    f\"Petal standard deviation: {petal_std}\\n\"\n",
    "    f\"Petal minimum: {petal_mini}\\nPetal maximum: {petal_maxi}\"\n",
    ")"
   ]
  },
  {
   "cell_type": "markdown",
   "id": "d135c6e1",
   "metadata": {},
   "source": [
    "**Description of Activity III.b**\n",
    "\n",
    "For this activity, I utilized the dataframe I had previously created for Iris dataset. Then I used .mean(), .std(), .min(), .max() operations on 'petal_length' column to yield the desired results. If I were presenting this data I might convert the raw float data results by rounding to two or three digits instead of leaving it as is."
   ]
  },
  {
   "cell_type": "markdown",
   "id": "c9df7598",
   "metadata": {},
   "source": [
    "**In the Tutorial Completion Document, describe your findings.**\n",
    "\n",
    "c. Print rows 10 through 20 of the \"iris\" dataset."
   ]
  },
  {
   "cell_type": "code",
   "execution_count": 64,
   "id": "ed10e23e",
   "metadata": {},
   "outputs": [
    {
     "name": "stdout",
     "output_type": "stream",
     "text": [
      "    sepal_length  sepal_width  petal_length  petal_width      species\n",
      "10           5.4          3.7           1.5          0.2  Iris-setosa\n",
      "11           4.8          3.4           1.6          0.2  Iris-setosa\n",
      "12           4.8          3.0           1.4          0.1  Iris-setosa\n",
      "13           4.3          3.0           1.1          0.1  Iris-setosa\n",
      "14           5.8          4.0           1.2          0.2  Iris-setosa\n",
      "15           5.7          4.4           1.5          0.4  Iris-setosa\n",
      "16           5.4          3.9           1.3          0.4  Iris-setosa\n",
      "17           5.1          3.5           1.4          0.3  Iris-setosa\n",
      "18           5.7          3.8           1.7          0.3  Iris-setosa\n",
      "19           5.1          3.8           1.5          0.3  Iris-setosa\n",
      "20           5.4          3.4           1.7          0.2  Iris-setosa\n"
     ]
    }
   ],
   "source": [
    "# To-do: Print rows 10 through 20 of the \"iris\" dataset.\n",
    "iris_rows_10thru20 = iris_df.iloc[10:21]\n",
    "print(iris_rows_10thru20)"
   ]
  },
  {
   "cell_type": "markdown",
   "id": "bc98b806",
   "metadata": {},
   "source": [
    "**Description of Activity III.c**\n",
    "\n",
    "For this activity, I called rows 10 through 20 by using .iloc[] on the iris dataframe I created. Nothing really notable here except that all the species are 'Iris-setosa' in the given range."
   ]
  },
  {
   "cell_type": "markdown",
   "id": "6052f321",
   "metadata": {},
   "source": [
    "**In the Tutorial Completion Document, describe your findings.**\n",
    "\n",
    "d. Print rows from the \"iris\" dataset where the species name is **Iris-setosa** and the **petel length** is greater than 1.6."
   ]
  },
  {
   "cell_type": "code",
   "execution_count": 65,
   "id": "493a9a7e",
   "metadata": {},
   "outputs": [
    {
     "name": "stdout",
     "output_type": "stream",
     "text": [
      "    sepal_length  sepal_width  petal_length  petal_width      species\n",
      "5            5.4          3.9           1.7          0.4  Iris-setosa\n",
      "18           5.7          3.8           1.7          0.3  Iris-setosa\n",
      "20           5.4          3.4           1.7          0.2  Iris-setosa\n",
      "23           5.1          3.3           1.7          0.5  Iris-setosa\n",
      "24           4.8          3.4           1.9          0.2  Iris-setosa\n",
      "44           5.1          3.8           1.9          0.4  Iris-setosa\n"
     ]
    }
   ],
   "source": [
    "# To-do: Print rows where species name is \"Iris-setosa \" and petel length is greater than 1.6.\n",
    "iris_setosa_petallength_gr1dot6 = iris_df.loc[(iris_df['petal_length'] > 1.6) & (iris_df['species'] == 'Iris-setosa')]\n",
    "print(iris_setosa_petallength_gr1dot6)"
   ]
  },
  {
   "cell_type": "markdown",
   "id": "87f2a98c",
   "metadata": {},
   "source": [
    "**Description of Activity III.d**\n",
    "\n",
    "For this activity, I used .loc on the iris dataframe to return data that fit specific parameters. In this case, if the petal_length was greater than 1.6 and if the species was 'Iris-setosa'. This criteria was only applicable to six entries in the dataset."
   ]
  },
  {
   "cell_type": "markdown",
   "id": "1fe6c212",
   "metadata": {},
   "source": [
    "## TASK II\n",
    "### Read the dataset\n",
    "\n",
    "**In the Tutorial Completion Document, describe your findings.**\n",
    "\n",
    "a. Read the \"HousePrices\" dataset from \"data\" folder"
   ]
  },
  {
   "cell_type": "code",
   "execution_count": 66,
   "id": "164ee5b4",
   "metadata": {},
   "outputs": [
    {
     "name": "stdout",
     "output_type": "stream",
     "text": [
      "Number of Rows: 546\n",
      "Number of Columns: 12\n",
      "      price  lotsize  bedrooms  bathrooms  stories driveway recreation  \\\n",
      "1   42000.0     5850         3          1        2      yes         no   \n",
      "2   38500.0     4000         2          1        1      yes         no   \n",
      "3   49500.0     3060         3          1        1      yes         no   \n",
      "4   60500.0     6650         3          1        2      yes        yes   \n",
      "5   61000.0     6360         2          1        1      yes         no   \n",
      "6   66000.0     4160         3          1        1      yes        yes   \n",
      "7   66000.0     3880         3          2        2      yes         no   \n",
      "8   69000.0     4160         3          1        3      yes         no   \n",
      "9   83800.0     4800         3          1        1      yes        yes   \n",
      "10  88500.0     5500         3          2        4      yes        yes   \n",
      "\n",
      "   fullbase gasheat aircon  garage prefer  \n",
      "1       yes      no     no       1     no  \n",
      "2        no      no     no       0     no  \n",
      "3        no      no     no       0     no  \n",
      "4        no      no     no       0     no  \n",
      "5        no      no     no       0     no  \n",
      "6       yes      no    yes       0     no  \n",
      "7       yes      no     no       2     no  \n",
      "8        no      no     no       0     no  \n",
      "9       yes      no     no       0     no  \n",
      "10       no      no    yes       1     no  \n"
     ]
    }
   ],
   "source": [
    "# To-do: Write code to read the \"HousePrices\" dataset.\n",
    "\n",
    "houseprices_df = pd.read_csv(path+'/HousePrices.csv', index_col= [0])\n",
    "houseprices_rows_len = len(houseprices_df.axes[0])\n",
    "houseprices_cols_len = len(houseprices_df.axes[1])\n",
    "\n",
    "print(  \n",
    "    f\"Number of Rows: {houseprices_rows_len}\\n\"\n",
    "    f\"Number of Columns: {houseprices_cols_len}\"\n",
    ")\n",
    "\n",
    "houseprices_first10 = houseprices_df.head(10)\n",
    "print(houseprices_first10)"
   ]
  },
  {
   "cell_type": "markdown",
   "id": "5e3ba853",
   "metadata": {},
   "source": [
    "**Description of Task II.a**\n",
    "\n",
    "For this task, I created a dataframe from HousePrices.csv. I added in 'index_col = [0]' to the read command to prevent an 'unamed' index column. I checked the number of rows and columns to better understand the shape of the data. I also called the first 10 rows of the data to get a sample of the data."
   ]
  },
  {
   "cell_type": "markdown",
   "id": "6e013b5f",
   "metadata": {},
   "source": [
    "### Basic descriptive statistics\n",
    "\n",
    "**In the Tutorial Completion Document, describe your findings.**\n",
    "\n",
    "b. Print the basic descriptive statistics like mean, std, etc. for numeric data from the \"HousePrices\" dataset"
   ]
  },
  {
   "cell_type": "code",
   "execution_count": 67,
   "id": "51fc5732",
   "metadata": {},
   "outputs": [
    {
     "name": "stdout",
     "output_type": "stream",
     "text": [
      "               price       lotsize    bedrooms   bathrooms     stories  \\\n",
      "count     546.000000    546.000000  546.000000  546.000000  546.000000   \n",
      "mean    68121.597070   5150.265568    2.965201    1.285714    1.807692   \n",
      "std     26702.670926   2168.158725    0.737388    0.502158    0.868203   \n",
      "min     25000.000000   1650.000000    1.000000    1.000000    1.000000   \n",
      "25%     49125.000000   3600.000000    2.000000    1.000000    1.000000   \n",
      "50%     62000.000000   4600.000000    3.000000    1.000000    2.000000   \n",
      "75%     82000.000000   6360.000000    3.000000    2.000000    2.000000   \n",
      "max    190000.000000  16200.000000    6.000000    4.000000    4.000000   \n",
      "\n",
      "           garage  \n",
      "count  546.000000  \n",
      "mean     0.692308  \n",
      "std      0.861307  \n",
      "min      0.000000  \n",
      "25%      0.000000  \n",
      "50%      0.000000  \n",
      "75%      1.000000  \n",
      "max      3.000000  \n",
      "To-do: \n",
      "\n"
     ]
    }
   ],
   "source": [
    "# To-do: Write code to print the basic descriptive statistics like mean, std, etc. for numeric data from the \"HousePrices\" dataset.\n",
    "# Do not include \"Unnamed: 0\"\n",
    "houseprices_statsdescribe = houseprices_df.describe()\n",
    "print(houseprices_statsdescribe)\n",
    "\n",
    "print(\"To-do: \\n\")"
   ]
  },
  {
   "cell_type": "markdown",
   "id": "86c79968",
   "metadata": {},
   "source": [
    "**Description of Task II.b**\n",
    "\n",
    "For this task, I utilized .describe() from pandas to generate  the mean, std, min, max and quartiles for the numeric data. This tool is very useful as it saves a lot of time calling each function manually. Also worth noting the majority of the homes in the data do not have a garage."
   ]
  },
  {
   "cell_type": "markdown",
   "id": "e3575c30",
   "metadata": {},
   "source": [
    "**In the Tutorial Completion Document, describe your findings.**\n",
    "\n",
    "c. When there are three bedrooms and two bathrooms, what is the average price of a home?"
   ]
  },
  {
   "cell_type": "code",
   "execution_count": 68,
   "id": "1213b131",
   "metadata": {},
   "outputs": [
    {
     "name": "stdout",
     "output_type": "stream",
     "text": [
      "The average price of a three bedroom, two bathroom home is: $ 91136.69\n"
     ]
    }
   ],
   "source": [
    "\n",
    "# To-do: Write code to filter the homes where there are three bedrooms and two bathrooms.\n",
    "\n",
    "houseprices_3bed_2bath = houseprices_df.loc[(houseprices_df['bedrooms'] == 3) & (houseprices_df['bathrooms'] == 2)] \n",
    "\n",
    "# To-do: Write code to find the price average from the above subset of data.\n",
    "houseprices_3bed_2bath_avgprice = houseprices_3bed_2bath['price'].mean()\n",
    "rounded_3bed_2bath_avgprice = round(houseprices_3bed_2bath_avgprice, 2)\n",
    "print(f'The average price of a three bedroom, two bathroom home is: $ {rounded_3bed_2bath_avgprice}')"
   ]
  },
  {
   "cell_type": "markdown",
   "id": "e5d55f51",
   "metadata": {},
   "source": [
    "**Description of Task II.c**\n",
    "\n",
    "For this task, I created a new data frame from houseprices with only homes that have both three bedrooms and two bathrooms. Then I found the mean price of said homes using .mean(). I don't have much to say except there is no way this is the mean price for a home in Kansas City that has three bedrooms and two baths, its too low!"
   ]
  },
  {
   "cell_type": "markdown",
   "id": "8b26ea8e",
   "metadata": {},
   "source": [
    "**In the Tutorial Completion Document, describe your findings.**\n",
    "\n",
    "d. Print the number of houses with a \"garage\" count of 0 or 1 or 2 or 3\n"
   ]
  },
  {
   "cell_type": "code",
   "execution_count": 69,
   "id": "08ee267c",
   "metadata": {},
   "outputs": [
    {
     "name": "stdout",
     "output_type": "stream",
     "text": [
      "        price  lotsize  bedrooms  bathrooms  stories driveway recreation  \\\n",
      "1     42000.0     5850         3          1        2      yes         no   \n",
      "2     38500.0     4000         2          1        1      yes         no   \n",
      "3     49500.0     3060         3          1        1      yes         no   \n",
      "4     60500.0     6650         3          1        2      yes        yes   \n",
      "5     61000.0     6360         2          1        1      yes         no   \n",
      "..        ...      ...       ...        ...      ...      ...        ...   \n",
      "542   91500.0     4800         3          2        4      yes        yes   \n",
      "543   94000.0     6000         3          2        4      yes         no   \n",
      "544  103000.0     6000         3          2        4      yes        yes   \n",
      "545  105000.0     6000         3          2        2      yes        yes   \n",
      "546  105000.0     6000         3          1        2      yes         no   \n",
      "\n",
      "    fullbase gasheat aircon  garage prefer  \n",
      "1        yes      no     no       1     no  \n",
      "2         no      no     no       0     no  \n",
      "3         no      no     no       0     no  \n",
      "4         no      no     no       0     no  \n",
      "5         no      no     no       0     no  \n",
      "..       ...     ...    ...     ...    ...  \n",
      "542       no      no    yes       0     no  \n",
      "543       no      no    yes       0     no  \n",
      "544       no      no    yes       1     no  \n",
      "545       no      no    yes       1     no  \n",
      "546       no      no    yes       1     no  \n",
      "\n",
      "[546 rows x 12 columns]\n",
      "Maximum garage size is :3\n"
     ]
    }
   ],
   "source": [
    "# To-do: Write code to print the number of houses with a \"garage\" count of 0 or 1 or 2 or 3\n",
    "\n",
    "houseprices_garage_0to3 = houseprices_df.loc[houseprices_df['garage'] <= 3]\n",
    "print(houseprices_garage_0to3)\n",
    "\n",
    "garage_maxi = houseprices_df['garage'].max()\n",
    "print(f'Maximum garage size is :{garage_maxi}')"
   ]
  },
  {
   "cell_type": "markdown",
   "id": "dcd99edc",
   "metadata": {},
   "source": [
    "**Description of Task II.d**\n",
    "\n",
    "I created a  dataframe  from all homes with less than or equal to three car carage size (can't have a negative car garage).\n",
    "\n",
    "I noticed this was the same shape as the dataframe created from the original csv (546 rows by 13 columms). This led me to conclude that all homes in the data have a maximum size of three car garage. I ran a .max() operation on the 'garage' column to confirm this."
   ]
  }
 ],
 "metadata": {
  "kernelspec": {
   "display_name": "Python 3 (ipykernel)",
   "language": "python",
   "name": "python3"
  },
  "language_info": {
   "codemirror_mode": {
    "name": "ipython",
    "version": 3
   },
   "file_extension": ".py",
   "mimetype": "text/x-python",
   "name": "python",
   "nbconvert_exporter": "python",
   "pygments_lexer": "ipython3",
   "version": "3.9.13"
  }
 },
 "nbformat": 4,
 "nbformat_minor": 5
}
