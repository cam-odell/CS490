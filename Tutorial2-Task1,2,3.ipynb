{
 "cells": [
  {
   "cell_type": "code",
   "execution_count": 3,
   "id": "5cdfea87",
   "metadata": {},
   "outputs": [],
   "source": [
    "variable1 = \"Cameron O'Dell\"\n",
    "variable2 = ['Python', 'Machine Learning', 'Deep Learning']\n",
    "variable3 = (4, 9, 16, 25)\n",
    "variable4 = [2.0, 3.0, 5.0, 7.0, 11.0]\n",
    "variable5 = {'key1': 65537, 'key2': 1729, 'key3': 1806}\n",
    "variable6 = {'key1': 3.1415, 'key2': 2.68545, 'key3': 1.61803}\n",
    "variable7 = {1: 'Jaime', 2: 'Jack', 3: 'Joey'}\n",
    "variable8 = {1:['Jaime','Jack', 'Joey'], 2:['Deo', 'Katie', 'Lauren'], 3:['Mustafa', 'Luke', 'M']}"
   ]
  },
  {
   "cell_type": "code",
   "execution_count": 9,
   "id": "941c5cda",
   "metadata": {},
   "outputs": [
    {
     "name": "stdout",
     "output_type": "stream",
     "text": [
      "14\n",
      "3\n",
      "4\n",
      "5\n",
      "3\n",
      "3\n",
      "3\n",
      "3\n"
     ]
    }
   ],
   "source": [
    "print(len(variable1))\n",
    "print(len(variable2))\n",
    "print(len(variable3))\n",
    "print(len(variable4))\n",
    "print(len(variable5))\n",
    "print(len(variable6))\n",
    "print(len(variable7))\n",
    "print(len(variable8))"
   ]
  },
  {
   "cell_type": "markdown",
   "id": "e5715502",
   "metadata": {},
   "source": [
    "| Variable Name | Data Type | Length | Description\n",
    "| --- | --- | --- | --- |\n",
    "| variable1 | String | 14 | Name |\n",
    "| variable2 | String | 3 | List of Strings | \n",
    "| variable3 | Integer | 4 | Tuple | \n",
    "| variable4 | Float | 5 | List of Floats | \n",
    "| variable5 | String: Integer | 3 | Dictionary Integer Values| \n",
    "| variable6 | String: Float | 3 | Dictionary Float Values | \n",
    "| variable7 | Integer: String | 3 | Dictionary String Values | \n",
    "| variable8 | Integer: String(list) | 3 | Dictionary List Values | "
   ]
  },
  {
   "cell_type": "code",
   "execution_count": 10,
   "id": "d1d0a7d7",
   "metadata": {},
   "outputs": [
    {
     "data": {
      "text/plain": [
       "15"
      ]
     },
     "execution_count": 10,
     "metadata": {},
     "output_type": "execute_result"
    }
   ],
   "source": [
    "5 + 10"
   ]
  },
  {
   "cell_type": "code",
   "execution_count": 11,
   "id": "c46620f0",
   "metadata": {},
   "outputs": [
    {
     "data": {
      "text/plain": [
       "1"
      ]
     },
     "execution_count": 11,
     "metadata": {},
     "output_type": "execute_result"
    }
   ],
   "source": [
    "7-6"
   ]
  },
  {
   "cell_type": "code",
   "execution_count": 12,
   "id": "0112e421",
   "metadata": {},
   "outputs": [
    {
     "data": {
      "text/plain": [
       "24"
      ]
     },
     "execution_count": 12,
     "metadata": {},
     "output_type": "execute_result"
    }
   ],
   "source": [
    "3 * 8"
   ]
  },
  {
   "cell_type": "code",
   "execution_count": 13,
   "id": "fc2994d3",
   "metadata": {},
   "outputs": [
    {
     "data": {
      "text/plain": [
       "5.0"
      ]
     },
     "execution_count": 13,
     "metadata": {},
     "output_type": "execute_result"
    }
   ],
   "source": [
    " 10 / 2"
   ]
  },
  {
   "cell_type": "code",
   "execution_count": 14,
   "id": "9ff473f4",
   "metadata": {},
   "outputs": [
    {
     "data": {
      "text/plain": [
       "2"
      ]
     },
     "execution_count": 14,
     "metadata": {},
     "output_type": "execute_result"
    }
   ],
   "source": [
    "12 % 5"
   ]
  },
  {
   "cell_type": "code",
   "execution_count": 16,
   "id": "ed3610ef",
   "metadata": {},
   "outputs": [
    {
     "data": {
      "text/plain": [
       "9"
      ]
     },
     "execution_count": 16,
     "metadata": {},
     "output_type": "execute_result"
    }
   ],
   "source": [
    "3 ** 2"
   ]
  },
  {
   "cell_type": "markdown",
   "id": "c869d7e9",
   "metadata": {},
   "source": [
    "| Variable 1 (Data type) | Variable 2 (Data type) | Operation | Result (data type)| Comments\n",
    "| --- | --- | --- | --- | --- |\n",
    "| Integer | Integer | Addition | Integer | Sum of two integers is an integer |\n",
    "| Integer | Integer | Subtraction | Integer | Difference of two integers is an integer | \n",
    "| Integer | Integer | Multiplication | Integer | Product of two integers is an integer | \n",
    "| Integer | Integer | Division | Float | Quotient of two integers is a float |\n",
    "| Integer | Integer | Remainder after division |Integer | Remainder of two integers is an integer |\n",
    "| Integer | Integer | Exponent/Power | Integer | Integer raised to power of an integer is an integer |\n"
   ]
  },
  {
   "cell_type": "code",
   "execution_count": 2,
   "id": "fd1be94f",
   "metadata": {},
   "outputs": [
    {
     "data": {
      "text/plain": [
       "'catdog'"
      ]
     },
     "execution_count": 2,
     "metadata": {},
     "output_type": "execute_result"
    }
   ],
   "source": [
    "'cat' + 'dog'"
   ]
  },
  {
   "cell_type": "code",
   "execution_count": 3,
   "id": "e99778af",
   "metadata": {},
   "outputs": [
    {
     "ename": "TypeError",
     "evalue": "can only concatenate str (not \"int\") to str",
     "output_type": "error",
     "traceback": [
      "\u001b[1;31m---------------------------------------------------------------------------\u001b[0m",
      "\u001b[1;31mTypeError\u001b[0m                                 Traceback (most recent call last)",
      "\u001b[1;32m~\\AppData\\Local\\Temp\\ipykernel_9096\\3903471771.py\u001b[0m in \u001b[0;36m<module>\u001b[1;34m\u001b[0m\n\u001b[1;32m----> 1\u001b[1;33m \u001b[1;34m'cat'\u001b[0m \u001b[1;33m+\u001b[0m \u001b[1;36m1\u001b[0m\u001b[1;33m\u001b[0m\u001b[1;33m\u001b[0m\u001b[0m\n\u001b[0m",
      "\u001b[1;31mTypeError\u001b[0m: can only concatenate str (not \"int\") to str"
     ]
    }
   ],
   "source": [
    "'cat' + 1"
   ]
  },
  {
   "cell_type": "code",
   "execution_count": 4,
   "id": "dc9f0b5d",
   "metadata": {},
   "outputs": [
    {
     "data": {
      "text/plain": [
       "'cat1'"
      ]
     },
     "execution_count": 4,
     "metadata": {},
     "output_type": "execute_result"
    }
   ],
   "source": [
    "'cat' + str(1)"
   ]
  },
  {
   "cell_type": "code",
   "execution_count": 7,
   "id": "9ae371f4",
   "metadata": {},
   "outputs": [
    {
     "data": {
      "text/plain": [
       "[1, 2, 3, 4, 5, 6]"
      ]
     },
     "execution_count": 7,
     "metadata": {},
     "output_type": "execute_result"
    }
   ],
   "source": [
    "firstlist = [1,2,3]\n",
    "secondlist = [4,5,6]\n",
    "firstlist + secondlist"
   ]
  },
  {
   "cell_type": "code",
   "execution_count": 8,
   "id": "9d221508",
   "metadata": {},
   "outputs": [
    {
     "data": {
      "text/plain": [
       "False"
      ]
     },
     "execution_count": 8,
     "metadata": {},
     "output_type": "execute_result"
    }
   ],
   "source": [
    "1 > 2"
   ]
  },
  {
   "cell_type": "code",
   "execution_count": 9,
   "id": "d91a916c",
   "metadata": {},
   "outputs": [
    {
     "data": {
      "text/plain": [
       "True"
      ]
     },
     "execution_count": 9,
     "metadata": {},
     "output_type": "execute_result"
    }
   ],
   "source": [
    "1 < 2"
   ]
  },
  {
   "cell_type": "code",
   "execution_count": 10,
   "id": "22459116",
   "metadata": {},
   "outputs": [
    {
     "data": {
      "text/plain": [
       "True"
      ]
     },
     "execution_count": 10,
     "metadata": {},
     "output_type": "execute_result"
    }
   ],
   "source": [
    "1 >= 1"
   ]
  },
  {
   "cell_type": "code",
   "execution_count": 11,
   "id": "f54e97e9",
   "metadata": {},
   "outputs": [
    {
     "data": {
      "text/plain": [
       "True"
      ]
     },
     "execution_count": 11,
     "metadata": {},
     "output_type": "execute_result"
    }
   ],
   "source": [
    "0.0 <= 0.0"
   ]
  },
  {
   "cell_type": "code",
   "execution_count": 12,
   "id": "4a3a2cde",
   "metadata": {},
   "outputs": [
    {
     "data": {
      "text/plain": [
       "True"
      ]
     },
     "execution_count": 12,
     "metadata": {},
     "output_type": "execute_result"
    }
   ],
   "source": [
    "1 == 1.0"
   ]
  },
  {
   "cell_type": "code",
   "execution_count": 13,
   "id": "a3358c00",
   "metadata": {},
   "outputs": [
    {
     "data": {
      "text/plain": [
       "True"
      ]
     },
     "execution_count": 13,
     "metadata": {},
     "output_type": "execute_result"
    }
   ],
   "source": [
    "1 != 1.00000000001"
   ]
  },
  {
   "cell_type": "markdown",
   "id": "bbd7dcf0",
   "metadata": {},
   "source": [
    "| Variable 1 (Data type) | Variable 2 (Data type) | Operation | Result (data type)| Comments\n",
    "| --- | --- | --- | --- | --- |\n",
    "| Integer | Integer | Greater than | False (boolean) | 1 is greater than 2 |\n",
    "| Integer | Integer | Less than | True (boolean) | 1 is less than 2 | \n",
    "| Integer | Integer | Greater than or Equal to | True (boolean) | 1 is greater than or equal to 1 | \n",
    "| Float | Float | Less than or Equal to | True (boolean) | 0.0 is less than or equal to 0.0 |\n",
    "| Integer | Float | Equal to |True (boolean) | 1 is equal to 1.0 |\n",
    "| Integer | Float | Not equal to | True (boolean) | 1 is not equal to 1.00000000001 |"
   ]
  },
  {
   "cell_type": "code",
   "execution_count": 14,
   "id": "eb45259e",
   "metadata": {},
   "outputs": [
    {
     "data": {
      "text/plain": [
       "False"
      ]
     },
     "execution_count": 14,
     "metadata": {},
     "output_type": "execute_result"
    }
   ],
   "source": [
    "True and False"
   ]
  },
  {
   "cell_type": "code",
   "execution_count": 15,
   "id": "af3dab63",
   "metadata": {},
   "outputs": [
    {
     "data": {
      "text/plain": [
       "True"
      ]
     },
     "execution_count": 15,
     "metadata": {},
     "output_type": "execute_result"
    }
   ],
   "source": [
    "True or False"
   ]
  },
  {
   "cell_type": "code",
   "execution_count": 16,
   "id": "2b191f54",
   "metadata": {},
   "outputs": [
    {
     "data": {
      "text/plain": [
       "False"
      ]
     },
     "execution_count": 16,
     "metadata": {},
     "output_type": "execute_result"
    }
   ],
   "source": [
    "not True"
   ]
  },
  {
   "cell_type": "code",
   "execution_count": 18,
   "id": "7b3e1fd4",
   "metadata": {},
   "outputs": [
    {
     "data": {
      "text/plain": [
       "False"
      ]
     },
     "execution_count": 18,
     "metadata": {},
     "output_type": "execute_result"
    }
   ],
   "source": [
    "listexample = [1,2,3,4,5,7,8,9,10]\n",
    "6 in listexample"
   ]
  },
  {
   "cell_type": "code",
   "execution_count": 23,
   "id": "5a510c77",
   "metadata": {},
   "outputs": [
    {
     "data": {
      "text/plain": [
       "True"
      ]
     },
     "execution_count": 23,
     "metadata": {},
     "output_type": "execute_result"
    }
   ],
   "source": [
    "five = 5\n",
    "six = 5\n",
    "five is six"
   ]
  },
  {
   "cell_type": "code",
   "execution_count": 25,
   "id": "6b867950",
   "metadata": {},
   "outputs": [
    {
     "name": "stdout",
     "output_type": "stream",
     "text": [
      "x is less than four\n"
     ]
    }
   ],
   "source": [
    "x = 3\n",
    "if x < 4:\n",
    "    print('x is less than four')"
   ]
  },
  {
   "cell_type": "code",
   "execution_count": 26,
   "id": "579532b7",
   "metadata": {},
   "outputs": [
    {
     "name": "stdout",
     "output_type": "stream",
     "text": [
      "x is greater than or equal to 3\n"
     ]
    }
   ],
   "source": [
    "x = 5\n",
    "if x < 2 :\n",
    "    print('x is less than two')\n",
    "elif x < 3:\n",
    "    print('x is less than three')\n",
    "else:\n",
    "    print('x is greater than or equal to 3')"
   ]
  },
  {
   "cell_type": "code",
   "execution_count": 31,
   "id": "0e7cb4c1",
   "metadata": {},
   "outputs": [
    {
     "name": "stdout",
     "output_type": "stream",
     "text": [
      "10\n"
     ]
    }
   ],
   "source": [
    "listvalues = [1,2,3,4]\n",
    "x = 0\n",
    "for i in listvalues:\n",
    "    x += i\n",
    "    if i == 4:\n",
    "        break\n",
    "print(x)"
   ]
  },
  {
   "cell_type": "code",
   "execution_count": 44,
   "id": "477ed4b2",
   "metadata": {},
   "outputs": [
    {
     "name": "stdout",
     "output_type": "stream",
     "text": [
      "10\n"
     ]
    }
   ],
   "source": [
    "x = 0\n",
    "while(x < 10):\n",
    "    x += 1\n",
    "print(x)"
   ]
  },
  {
   "cell_type": "code",
   "execution_count": 48,
   "id": "ca3580fb",
   "metadata": {},
   "outputs": [
    {
     "name": "stdout",
     "output_type": "stream",
     "text": [
      "My name is Cameron\n"
     ]
    }
   ],
   "source": [
    "def name_function():\n",
    "    print('My name is Cameron')\n",
    "    return\n",
    "name_function()"
   ]
  },
  {
   "cell_type": "code",
   "execution_count": 58,
   "id": "57b0c64d",
   "metadata": {},
   "outputs": [
    {
     "data": {
      "text/plain": [
       "15.0"
      ]
     },
     "execution_count": 58,
     "metadata": {},
     "output_type": "execute_result"
    }
   ],
   "source": [
    "def hyp_function(side_a, side_b):\n",
    "    import numpy as np\n",
    "    hypotenuse = np.sqrt(side_a**2 + side_b**2)\n",
    "    return hypotenuse\n",
    "triangle_one = 9.0\n",
    "triangle_two = 12.0\n",
    "hyp_function(triangle_one, triangle_two)"
   ]
  },
  {
   "cell_type": "code",
   "execution_count": 59,
   "id": "aee0e089",
   "metadata": {},
   "outputs": [
    {
     "name": "stdout",
     "output_type": "stream",
     "text": [
      "My name is Cameron\n",
      "My name is Cameron\n",
      "My name is Cameron\n",
      "My name is Cameron\n",
      "My name is Cameron\n",
      "My name is Cameron\n",
      "My name is Cameron\n",
      "My name is Cameron\n",
      "My name is Cameron\n",
      "My name is Cameron\n"
     ]
    }
   ],
   "source": [
    "for n in range (10):\n",
    "    name_function()"
   ]
  },
  {
   "cell_type": "code",
   "execution_count": 62,
   "id": "f4d9ff09",
   "metadata": {},
   "outputs": [],
   "source": [
    "def area_of_triangle(base, height):\n",
    "    area = (base * height) / 2.0\n",
    "    return area\n",
    "\n",
    "def compute_triangle_properties(sideA, sideB):\n",
    "    hypo = hyp_function(sideA, sideB)\n",
    "    A = area_of_triangle(sideA, sideB)\n",
    "    return hypo, A\n",
    "triangle_a = 9.0\n",
    "triangle_b = 12.0\n",
    "hypo_function, tri_area = compute_triangle_properties(triangle_a, triangle_b)"
   ]
  },
  {
   "cell_type": "code",
   "execution_count": 66,
   "id": "20dca69d",
   "metadata": {},
   "outputs": [
    {
     "name": "stdout",
     "output_type": "stream",
     "text": [
      "2.5\n"
     ]
    }
   ],
   "source": [
    "def euclidean_distance(x, y):\n",
    "    e_distance = 0\n",
    "    sq_distance = 0\n",
    "    for x_i, y_i in zip(x,y):\n",
    "        sq_distance += (x_i - y_i)**2\n",
    "    e_distance = sq_distance *.5\n",
    "    return e_distance\n",
    "point_a = (1, 2)\n",
    "point_b = (2, 4)\n",
    "euc_distance = euclidean_distance(point_a, point_b)\n",
    "print(euc_distance)"
   ]
  },
  {
   "cell_type": "code",
   "execution_count": 68,
   "id": "2319b00c",
   "metadata": {},
   "outputs": [
    {
     "name": "stdout",
     "output_type": "stream",
     "text": [
      "78.53981633974483\n"
     ]
    }
   ],
   "source": [
    "def circle_area(r):\n",
    "    import math\n",
    "    c_area = 0.0\n",
    "    c_area += math.pi * (r **2)\n",
    "    return c_area\n",
    "\n",
    "radius = 5.0\n",
    "circleArea = circle_area(radius)\n",
    "print(circleArea)"
   ]
  },
  {
   "cell_type": "code",
   "execution_count": 92,
   "id": "479afc59",
   "metadata": {},
   "outputs": [
    {
     "ename": "AttributeError",
     "evalue": "'dict' object has no attribute 'iteritems'",
     "output_type": "error",
     "traceback": [
      "\u001b[1;31m---------------------------------------------------------------------------\u001b[0m",
      "\u001b[1;31mAttributeError\u001b[0m                            Traceback (most recent call last)",
      "\u001b[1;32m~\\AppData\\Local\\Temp\\ipykernel_9096\\2243088954.py\u001b[0m in \u001b[0;36m<module>\u001b[1;34m\u001b[0m\n\u001b[0;32m      5\u001b[0m \u001b[1;33m\u001b[0m\u001b[0m\n\u001b[0;32m      6\u001b[0m \u001b[0mmyDict\u001b[0m \u001b[1;33m=\u001b[0m \u001b[1;33m{\u001b[0m\u001b[1;34m'one'\u001b[0m\u001b[1;33m:\u001b[0m \u001b[1;36m1\u001b[0m\u001b[1;33m,\u001b[0m \u001b[1;34m'two'\u001b[0m\u001b[1;33m:\u001b[0m \u001b[1;36m4\u001b[0m\u001b[1;33m,\u001b[0m \u001b[1;34m'three'\u001b[0m\u001b[1;33m:\u001b[0m \u001b[1;36m9\u001b[0m\u001b[1;33m,\u001b[0m \u001b[1;34m'four'\u001b[0m\u001b[1;33m:\u001b[0m \u001b[1;36m16\u001b[0m\u001b[1;33m,\u001b[0m \u001b[1;34m'five'\u001b[0m\u001b[1;33m:\u001b[0m\u001b[1;36m25\u001b[0m\u001b[1;33m}\u001b[0m\u001b[1;33m\u001b[0m\u001b[1;33m\u001b[0m\u001b[0m\n\u001b[1;32m----> 7\u001b[1;33m \u001b[0mmyDict_square\u001b[0m \u001b[1;33m=\u001b[0m \u001b[0msquare_of_dict_values\u001b[0m\u001b[1;33m(\u001b[0m\u001b[0mmyDict\u001b[0m\u001b[1;33m)\u001b[0m\u001b[1;33m\u001b[0m\u001b[1;33m\u001b[0m\u001b[0m\n\u001b[0m\u001b[0;32m      8\u001b[0m \u001b[0mprint\u001b[0m\u001b[1;33m(\u001b[0m\u001b[0mmyDict_square\u001b[0m\u001b[1;33m)\u001b[0m\u001b[1;33m\u001b[0m\u001b[1;33m\u001b[0m\u001b[0m\n",
      "\u001b[1;32m~\\AppData\\Local\\Temp\\ipykernel_9096\\2243088954.py\u001b[0m in \u001b[0;36msquare_of_dict_values\u001b[1;34m(myDict)\u001b[0m\n\u001b[0;32m      1\u001b[0m \u001b[1;32mdef\u001b[0m \u001b[0msquare_of_dict_values\u001b[0m\u001b[1;33m(\u001b[0m\u001b[0mmyDict\u001b[0m\u001b[1;33m)\u001b[0m\u001b[1;33m:\u001b[0m\u001b[1;33m\u001b[0m\u001b[1;33m\u001b[0m\u001b[0m\n\u001b[0;32m      2\u001b[0m     \u001b[0mmyDict_square\u001b[0m \u001b[1;33m=\u001b[0m \u001b[1;33m{\u001b[0m\u001b[1;33m}\u001b[0m\u001b[1;33m\u001b[0m\u001b[1;33m\u001b[0m\u001b[0m\n\u001b[1;32m----> 3\u001b[1;33m     \u001b[1;32mfor\u001b[0m \u001b[0mkey\u001b[0m\u001b[1;33m,\u001b[0m \u001b[0mvalue\u001b[0m \u001b[1;32min\u001b[0m \u001b[0mmyDict_square\u001b[0m\u001b[1;33m.\u001b[0m\u001b[0miteritems\u001b[0m\u001b[1;33m(\u001b[0m\u001b[1;33m)\u001b[0m\u001b[1;33m:\u001b[0m\u001b[1;33m\u001b[0m\u001b[1;33m\u001b[0m\u001b[0m\n\u001b[0m\u001b[0;32m      4\u001b[0m         \u001b[0mresults\u001b[0m\u001b[1;33m[\u001b[0m\u001b[0mkey\u001b[0m\u001b[1;33m]\u001b[0m \u001b[1;33m=\u001b[0m \u001b[1;33m{\u001b[0m\u001b[0mkey\u001b[0m\u001b[1;33m:\u001b[0m \u001b[0mpow\u001b[0m\u001b[1;33m(\u001b[0m\u001b[0mvalue\u001b[0m\u001b[1;33m,\u001b[0m\u001b[1;36m2.\u001b[0m\u001b[1;33m)\u001b[0m \u001b[1;32mfor\u001b[0m \u001b[0mkey\u001b[0m\u001b[1;33m,\u001b[0m \u001b[0mvalue\u001b[0m \u001b[1;32min\u001b[0m \u001b[0mvalue\u001b[0m\u001b[1;33m.\u001b[0m\u001b[0miteritems\u001b[0m\u001b[1;33m(\u001b[0m\u001b[1;33m)\u001b[0m\u001b[1;33m}\u001b[0m\u001b[1;33m\u001b[0m\u001b[1;33m\u001b[0m\u001b[0m\n\u001b[0;32m      5\u001b[0m \u001b[1;33m\u001b[0m\u001b[0m\n",
      "\u001b[1;31mAttributeError\u001b[0m: 'dict' object has no attribute 'iteritems'"
     ]
    }
   ],
   "source": [
    "def square_of_dict_values(myDict):\n",
    "    myDict_square = {}\n",
    "    for key, value in myDict_square.iteritems():\n",
    "        results[key] = {key: pow(value,2.) for key, value in value.iteritems()}\n",
    "\n",
    "myDict = {'one': 1, 'two': 4, 'three': 9, 'four': 16, 'five':25}\n",
    "myDict_square = square_of_dict_values(myDict)\n",
    "print(myDict_square)"
   ]
  },
  {
   "cell_type": "code",
   "execution_count": null,
   "id": "22259a88",
   "metadata": {},
   "outputs": [],
   "source": []
  }
 ],
 "metadata": {
  "kernelspec": {
   "display_name": "Python 3 (ipykernel)",
   "language": "python",
   "name": "python3"
  },
  "language_info": {
   "codemirror_mode": {
    "name": "ipython",
    "version": 3
   },
   "file_extension": ".py",
   "mimetype": "text/x-python",
   "name": "python",
   "nbconvert_exporter": "python",
   "pygments_lexer": "ipython3",
   "version": "3.9.13"
  }
 },
 "nbformat": 4,
 "nbformat_minor": 5
}
